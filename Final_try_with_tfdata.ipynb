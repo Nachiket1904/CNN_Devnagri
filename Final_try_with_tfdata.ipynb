{
 "cells": [
  {
   "cell_type": "code",
   "execution_count": 1,
   "metadata": {},
   "outputs": [],
   "source": [
    "from __future__ import print_function\n",
    "from tensorflow import keras\n",
    "import tensorflow as tf\n",
    "from tensorflow.keras.callbacks import ReduceLROnPlateau, EarlyStopping\n",
    "import numpy as np"
   ]
  },
  {
   "cell_type": "code",
   "execution_count": 2,
   "metadata": {},
   "outputs": [],
   "source": [
    "train_data_gen = keras.preprocessing.image.ImageDataGenerator(\n",
    "    rotation_range=5,\n",
    "    width_shift_range=0.1,\n",
    "    rescale=1.0/255.,\n",
    "    shear_range=0.2,\n",
    "    zoom_range=0.2,\n",
    "    fill_mode='nearest',\n",
    "    validation_split=0.2,\n",
    ")\n",
    "\n",
    "test_data_gen = keras.preprocessing.image.ImageDataGenerator(rescale=1./255.)"
   ]
  },
  {
   "cell_type": "code",
   "execution_count": 4,
   "metadata": {},
   "outputs": [
    {
     "name": "stdout",
     "output_type": "stream",
     "text": [
      "Found 62560 images belonging to 46 classes.\n",
      "Found 15640 images belonging to 46 classes.\n",
      "Found 13800 images belonging to 46 classes.\n"
     ]
    }
   ],
   "source": [
    "train_data_generator = train_data_gen.flow_from_directory(\n",
    "    \"./archive/data/train\",\n",
    "    target_size=(32,32),\n",
    "    color_mode='rgb',\n",
    "    subset='training',\n",
    "    class_mode='categorical',\n",
    "    batch_size=64,\n",
    "    seed=42)\n",
    "\n",
    "validation_data_gen =train_data_gen.flow_from_directory(\n",
    "    \"./archive/data/train\",\n",
    "    target_size=(32,32),\n",
    "    color_mode='rgb',\n",
    "    subset='validation',\n",
    "     class_mode='categorical',\n",
    "    batch_size=64,\n",
    "    seed=42)\n",
    "\n",
    "test_data_generator = test_data_gen.flow_from_directory(\n",
    "    \"./archive/data/test\",\n",
    "    target_size=[32,32],\n",
    "    color_mode='rgb',\n",
    "    batch_size=64,\n",
    "    seed=42)                              \n",
    "                                   "
   ]
  },
  {
   "cell_type": "code",
   "execution_count": 5,
   "metadata": {
    "scrolled": false
   },
   "outputs": [
    {
     "data": {
      "text/plain": [
       "{'0': 0,\n",
       " '1': 1,\n",
       " '10': 2,\n",
       " '11': 3,\n",
       " '12': 4,\n",
       " '13': 5,\n",
       " '14': 6,\n",
       " '15': 7,\n",
       " '16': 8,\n",
       " '17': 9,\n",
       " '18': 10,\n",
       " '19': 11,\n",
       " '2': 12,\n",
       " '20': 13,\n",
       " '21': 14,\n",
       " '22': 15,\n",
       " '23': 16,\n",
       " '24': 17,\n",
       " '25': 18,\n",
       " '26': 19,\n",
       " '27': 20,\n",
       " '28': 21,\n",
       " '29': 22,\n",
       " '3': 23,\n",
       " '30': 24,\n",
       " '31': 25,\n",
       " '32': 26,\n",
       " '33': 27,\n",
       " '34': 28,\n",
       " '35': 29,\n",
       " '36': 30,\n",
       " '37': 31,\n",
       " '38': 32,\n",
       " '39': 33,\n",
       " '4': 34,\n",
       " '40': 35,\n",
       " '41': 36,\n",
       " '42': 37,\n",
       " '43': 38,\n",
       " '44': 39,\n",
       " '45': 40,\n",
       " '5': 41,\n",
       " '6': 42,\n",
       " '7': 43,\n",
       " '8': 44,\n",
       " '9': 45}"
      ]
     },
     "execution_count": 5,
     "metadata": {},
     "output_type": "execute_result"
    }
   ],
   "source": [
    "train_data_generator.class_indices"
   ]
  },
  {
   "cell_type": "code",
   "execution_count": 6,
   "metadata": {},
   "outputs": [],
   "source": [
    "import json\n",
    "\n",
    "with open('class_labels.json', 'w') as outfile:\n",
    "    json.dump(train_data_generator.class_indices, outfile)"
   ]
  },
  {
   "cell_type": "code",
   "execution_count": 7,
   "metadata": {},
   "outputs": [],
   "source": [
    "with open('class_labels.json', 'r') as f:\n",
    "    json_obj = json.load(f)"
   ]
  },
  {
   "cell_type": "code",
   "execution_count": 8,
   "metadata": {
    "scrolled": true
   },
   "outputs": [
    {
     "data": {
      "text/plain": [
       "{'0': 0,\n",
       " '1': 1,\n",
       " '10': 2,\n",
       " '11': 3,\n",
       " '12': 4,\n",
       " '13': 5,\n",
       " '14': 6,\n",
       " '15': 7,\n",
       " '16': 8,\n",
       " '17': 9,\n",
       " '18': 10,\n",
       " '19': 11,\n",
       " '2': 12,\n",
       " '20': 13,\n",
       " '21': 14,\n",
       " '22': 15,\n",
       " '23': 16,\n",
       " '24': 17,\n",
       " '25': 18,\n",
       " '26': 19,\n",
       " '27': 20,\n",
       " '28': 21,\n",
       " '29': 22,\n",
       " '3': 23,\n",
       " '30': 24,\n",
       " '31': 25,\n",
       " '32': 26,\n",
       " '33': 27,\n",
       " '34': 28,\n",
       " '35': 29,\n",
       " '36': 30,\n",
       " '37': 31,\n",
       " '38': 32,\n",
       " '39': 33,\n",
       " '4': 34,\n",
       " '40': 35,\n",
       " '41': 36,\n",
       " '42': 37,\n",
       " '43': 38,\n",
       " '44': 39,\n",
       " '45': 40,\n",
       " '5': 41,\n",
       " '6': 42,\n",
       " '7': 43,\n",
       " '8': 44,\n",
       " '9': 45}"
      ]
     },
     "execution_count": 8,
     "metadata": {},
     "output_type": "execute_result"
    }
   ],
   "source": [
    "json_obj"
   ]
  },
  {
   "cell_type": "code",
   "execution_count": 9,
   "metadata": {},
   "outputs": [],
   "source": [
    "b_classes = 46\n",
    "nb_epoch = 200"
   ]
  },
  {
   "cell_type": "code",
   "execution_count": 16,
   "metadata": {
    "scrolled": false
   },
   "outputs": [],
   "source": [
    "keras.backend.clear_session()\n",
    "model = tf.keras.models.Sequential()\n",
    "model.add(tf.keras.layers.Conv2D(32, (3, 3), activation='relu', input_shape=(32, 32, 3)))\n",
    "model.add(tf.keras.layers.MaxPooling2D((2, 2)))\n",
    "model.add(tf.keras.layers.BatchNormalization())\n",
    "model.add(tf.keras.layers.Conv2D(64, (3, 3), activation='relu'))\n",
    "model.add(tf.keras.layers.MaxPooling2D((2, 2)))\n",
    "model.add(tf.keras.layers.Conv2D(64, (3, 3), activation='relu'))\n",
    "model.add(tf.keras.layers.Conv2D(64, (3, 3), activation='relu'))\n",
    "model.add(tf.keras.layers.GlobalAveragePooling2D())\n",
    "model.add(tf.keras.layers.Flatten())\n",
    "model.add(tf.keras.layers.Dense(128, activation='relu'))\n",
    "model.add(tf.keras.layers.Dropout(0.4))\n",
    "model.add(tf.keras.layers.Dense(64, activation='relu'))\n",
    "model.add(tf.keras.layers.Dropout(0.2))\n",
    "model.add(tf.keras.layers.Dense(46, activation='softmax'))"
   ]
  },
  {
   "cell_type": "code",
   "execution_count": 17,
   "metadata": {
    "scrolled": false
   },
   "outputs": [
    {
     "name": "stdout",
     "output_type": "stream",
     "text": [
      "Model: \"sequential\"\n",
      "_________________________________________________________________\n",
      "Layer (type)                 Output Shape              Param #   \n",
      "=================================================================\n",
      "conv2d (Conv2D)              (None, 30, 30, 32)        896       \n",
      "_________________________________________________________________\n",
      "max_pooling2d (MaxPooling2D) (None, 15, 15, 32)        0         \n",
      "_________________________________________________________________\n",
      "batch_normalization (BatchNo (None, 15, 15, 32)        128       \n",
      "_________________________________________________________________\n",
      "conv2d_1 (Conv2D)            (None, 13, 13, 64)        18496     \n",
      "_________________________________________________________________\n",
      "max_pooling2d_1 (MaxPooling2 (None, 6, 6, 64)          0         \n",
      "_________________________________________________________________\n",
      "conv2d_2 (Conv2D)            (None, 4, 4, 64)          36928     \n",
      "_________________________________________________________________\n",
      "conv2d_3 (Conv2D)            (None, 2, 2, 64)          36928     \n",
      "_________________________________________________________________\n",
      "global_average_pooling2d (Gl (None, 64)                0         \n",
      "_________________________________________________________________\n",
      "flatten (Flatten)            (None, 64)                0         \n",
      "_________________________________________________________________\n",
      "dense (Dense)                (None, 128)               8320      \n",
      "_________________________________________________________________\n",
      "dropout (Dropout)            (None, 128)               0         \n",
      "_________________________________________________________________\n",
      "dense_1 (Dense)              (None, 64)                8256      \n",
      "_________________________________________________________________\n",
      "dropout_1 (Dropout)          (None, 64)                0         \n",
      "_________________________________________________________________\n",
      "dense_2 (Dense)              (None, 46)                2990      \n",
      "=================================================================\n",
      "Total params: 112,942\n",
      "Trainable params: 112,878\n",
      "Non-trainable params: 64\n",
      "_________________________________________________________________\n"
     ]
    }
   ],
   "source": [
    "model.summary()"
   ]
  },
  {
   "cell_type": "code",
   "execution_count": 18,
   "metadata": {},
   "outputs": [],
   "source": [
    "\n",
    "lr_reducer = ReduceLROnPlateau(factor=np.sqrt(0.1), cooldown=0, patience=5, min_lr=0.5e-6)\n",
    "early_stopper = EarlyStopping(min_delta=0.001, patience=10)\n"
   ]
  },
  {
   "cell_type": "code",
   "execution_count": 19,
   "metadata": {},
   "outputs": [],
   "source": [
    "model.compile(loss='categorical_crossentropy',\n",
    "              optimizer='nadam',\n",
    "              metrics=['accuracy'])"
   ]
  },
  {
   "cell_type": "code",
   "execution_count": 20,
   "metadata": {
    "scrolled": false
   },
   "outputs": [
    {
     "name": "stdout",
     "output_type": "stream",
     "text": [
      "Epoch 1/200\n",
      "978/978 [==============================] - 3475s 4s/step - loss: 1.4699 - accuracy: 0.5800 - val_loss: 0.7054 - val_accuracy: 0.7977\n",
      "Epoch 2/200\n",
      "978/978 [==============================] - 41s 41ms/step - loss: 0.4824 - accuracy: 0.8577 - val_loss: 0.5563 - val_accuracy: 0.8379\n",
      "Epoch 3/200\n",
      "978/978 [==============================] - 41s 42ms/step - loss: 0.3387 - accuracy: 0.9017 - val_loss: 0.4864 - val_accuracy: 0.8607\n",
      "Epoch 4/200\n",
      "978/978 [==============================] - 41s 42ms/step - loss: 0.2730 - accuracy: 0.9232 - val_loss: 0.4620 - val_accuracy: 0.8677\n",
      "Epoch 5/200\n",
      "978/978 [==============================] - 41s 41ms/step - loss: 0.2375 - accuracy: 0.9334 - val_loss: 0.4359 - val_accuracy: 0.8797\n",
      "Epoch 6/200\n",
      "978/978 [==============================] - 41s 41ms/step - loss: 0.2067 - accuracy: 0.9426 - val_loss: 0.4287 - val_accuracy: 0.8847\n",
      "Epoch 7/200\n",
      "978/978 [==============================] - 41s 41ms/step - loss: 0.1865 - accuracy: 0.9477 - val_loss: 0.4364 - val_accuracy: 0.8838\n",
      "Epoch 8/200\n",
      "978/978 [==============================] - 41s 42ms/step - loss: 0.1823 - accuracy: 0.9505 - val_loss: 0.3998 - val_accuracy: 0.8932\n",
      "Epoch 9/200\n",
      "978/978 [==============================] - 41s 42ms/step - loss: 0.1646 - accuracy: 0.9543 - val_loss: 0.4647 - val_accuracy: 0.8852\n",
      "Epoch 10/200\n",
      "978/978 [==============================] - 41s 42ms/step - loss: 0.1564 - accuracy: 0.9574 - val_loss: 0.4461 - val_accuracy: 0.8857\n",
      "Epoch 11/200\n",
      "978/978 [==============================] - 41s 42ms/step - loss: 0.1472 - accuracy: 0.9601 - val_loss: 0.3970 - val_accuracy: 0.8955\n",
      "Epoch 12/200\n",
      "978/978 [==============================] - 41s 42ms/step - loss: 0.1392 - accuracy: 0.9626 - val_loss: 0.4837 - val_accuracy: 0.8816\n",
      "Epoch 13/200\n",
      "978/978 [==============================] - 41s 42ms/step - loss: 0.1317 - accuracy: 0.9649 - val_loss: 0.4344 - val_accuracy: 0.8913\n",
      "Epoch 14/200\n",
      "978/978 [==============================] - 41s 42ms/step - loss: 0.1339 - accuracy: 0.9644 - val_loss: 0.4317 - val_accuracy: 0.8953\n",
      "Epoch 15/200\n",
      "978/978 [==============================] - 41s 42ms/step - loss: 0.1248 - accuracy: 0.9661 - val_loss: 0.4565 - val_accuracy: 0.8889\n",
      "Epoch 16/200\n",
      "978/978 [==============================] - 41s 42ms/step - loss: 0.1271 - accuracy: 0.9665 - val_loss: 0.4032 - val_accuracy: 0.8970\n",
      "Epoch 17/200\n",
      "978/978 [==============================] - 41s 42ms/step - loss: 0.0840 - accuracy: 0.9778 - val_loss: 0.3362 - val_accuracy: 0.9159\n",
      "Epoch 18/200\n",
      "978/978 [==============================] - 41s 42ms/step - loss: 0.0761 - accuracy: 0.9797 - val_loss: 0.3562 - val_accuracy: 0.9123\n",
      "Epoch 19/200\n",
      "978/978 [==============================] - 41s 42ms/step - loss: 0.0725 - accuracy: 0.9802 - val_loss: 0.3751 - val_accuracy: 0.9074\n",
      "Epoch 20/200\n",
      "978/978 [==============================] - 41s 42ms/step - loss: 0.0679 - accuracy: 0.9814 - val_loss: 0.3565 - val_accuracy: 0.9145\n",
      "Epoch 21/200\n",
      "978/978 [==============================] - 41s 42ms/step - loss: 0.0659 - accuracy: 0.9816 - val_loss: 0.3438 - val_accuracy: 0.9140\n",
      "Epoch 22/200\n",
      "978/978 [==============================] - 41s 42ms/step - loss: 0.0601 - accuracy: 0.9828 - val_loss: 0.3715 - val_accuracy: 0.9122\n",
      "Epoch 23/200\n",
      "978/978 [==============================] - 41s 42ms/step - loss: 0.0536 - accuracy: 0.9850 - val_loss: 0.3272 - val_accuracy: 0.9231\n",
      "Epoch 24/200\n",
      "978/978 [==============================] - 41s 42ms/step - loss: 0.0486 - accuracy: 0.9866 - val_loss: 0.3271 - val_accuracy: 0.9221\n",
      "Epoch 25/200\n",
      "978/978 [==============================] - 41s 42ms/step - loss: 0.0521 - accuracy: 0.9859 - val_loss: 0.3237 - val_accuracy: 0.9235\n",
      "Epoch 26/200\n",
      "978/978 [==============================] - 41s 42ms/step - loss: 0.0492 - accuracy: 0.9864 - val_loss: 0.3223 - val_accuracy: 0.9209\n",
      "Epoch 27/200\n",
      "978/978 [==============================] - 41s 42ms/step - loss: 0.0502 - accuracy: 0.9864 - val_loss: 0.3166 - val_accuracy: 0.9232\n",
      "Epoch 28/200\n",
      "978/978 [==============================] - 41s 42ms/step - loss: 0.0470 - accuracy: 0.9870 - val_loss: 0.3217 - val_accuracy: 0.9228\n",
      "Epoch 29/200\n",
      "978/978 [==============================] - 41s 42ms/step - loss: 0.0441 - accuracy: 0.9879 - val_loss: 0.3354 - val_accuracy: 0.9243\n",
      "Epoch 30/200\n",
      "978/978 [==============================] - 41s 42ms/step - loss: 0.0453 - accuracy: 0.9870 - val_loss: 0.3235 - val_accuracy: 0.9232\n",
      "Epoch 31/200\n",
      "978/978 [==============================] - 41s 42ms/step - loss: 0.0443 - accuracy: 0.9881 - val_loss: 0.3342 - val_accuracy: 0.9219\n",
      "Epoch 32/200\n",
      "978/978 [==============================] - 41s 42ms/step - loss: 0.0448 - accuracy: 0.9880 - val_loss: 0.3287 - val_accuracy: 0.9250\n",
      "Epoch 33/200\n",
      "978/978 [==============================] - 41s 42ms/step - loss: 0.0399 - accuracy: 0.9886 - val_loss: 0.3124 - val_accuracy: 0.9261\n",
      "Epoch 34/200\n",
      "978/978 [==============================] - 41s 42ms/step - loss: 0.0409 - accuracy: 0.9890 - val_loss: 0.3222 - val_accuracy: 0.9244\n",
      "Epoch 35/200\n",
      "978/978 [==============================] - 41s 42ms/step - loss: 0.0415 - accuracy: 0.9887 - val_loss: 0.3112 - val_accuracy: 0.9256\n",
      "Epoch 36/200\n",
      "978/978 [==============================] - 41s 42ms/step - loss: 0.0380 - accuracy: 0.9898 - val_loss: 0.3261 - val_accuracy: 0.9248\n",
      "Epoch 37/200\n",
      "978/978 [==============================] - 41s 41ms/step - loss: 0.0396 - accuracy: 0.9890 - val_loss: 0.3290 - val_accuracy: 0.9247\n",
      "Epoch 38/200\n",
      "978/978 [==============================] - 41s 42ms/step - loss: 0.0401 - accuracy: 0.9892 - val_loss: 0.3196 - val_accuracy: 0.9279\n",
      "Epoch 39/200\n",
      "978/978 [==============================] - 41s 42ms/step - loss: 0.0380 - accuracy: 0.9894 - val_loss: 0.3322 - val_accuracy: 0.9242\n",
      "Epoch 40/200\n",
      "978/978 [==============================] - 41s 42ms/step - loss: 0.0396 - accuracy: 0.9894 - val_loss: 0.3269 - val_accuracy: 0.9263\n",
      "Epoch 41/200\n",
      "978/978 [==============================] - 41s 42ms/step - loss: 0.0373 - accuracy: 0.9895 - val_loss: 0.3246 - val_accuracy: 0.9260\n",
      "Epoch 42/200\n",
      "978/978 [==============================] - 41s 42ms/step - loss: 0.0369 - accuracy: 0.9898 - val_loss: 0.3222 - val_accuracy: 0.9254\n",
      "Epoch 43/200\n",
      "978/978 [==============================] - 41s 42ms/step - loss: 0.0376 - accuracy: 0.9899 - val_loss: 0.3078 - val_accuracy: 0.9274\n",
      "Epoch 44/200\n",
      "978/978 [==============================] - 41s 42ms/step - loss: 0.0365 - accuracy: 0.9901 - val_loss: 0.3304 - val_accuracy: 0.9249\n",
      "Epoch 45/200\n",
      "978/978 [==============================] - 41s 41ms/step - loss: 0.0391 - accuracy: 0.9894 - val_loss: 0.3085 - val_accuracy: 0.9283\n",
      "Epoch 46/200\n",
      "978/978 [==============================] - 41s 41ms/step - loss: 0.0370 - accuracy: 0.9895 - val_loss: 0.3244 - val_accuracy: 0.9254\n",
      "Epoch 47/200\n",
      "978/978 [==============================] - 41s 42ms/step - loss: 0.0378 - accuracy: 0.9896 - val_loss: 0.3246 - val_accuracy: 0.9260\n",
      "Epoch 48/200\n",
      "978/978 [==============================] - 41s 42ms/step - loss: 0.0359 - accuracy: 0.9892 - val_loss: 0.3294 - val_accuracy: 0.9265\n",
      "Epoch 49/200\n",
      "978/978 [==============================] - 41s 42ms/step - loss: 0.0361 - accuracy: 0.9897 - val_loss: 0.3183 - val_accuracy: 0.9292\n",
      "Epoch 50/200\n",
      "978/978 [==============================] - 41s 42ms/step - loss: 0.0365 - accuracy: 0.9899 - val_loss: 0.3245 - val_accuracy: 0.9262\n",
      "Epoch 51/200\n",
      "978/978 [==============================] - 41s 42ms/step - loss: 0.0361 - accuracy: 0.9902 - val_loss: 0.3159 - val_accuracy: 0.9280\n",
      "Epoch 52/200\n",
      "978/978 [==============================] - 41s 42ms/step - loss: 0.0366 - accuracy: 0.9898 - val_loss: 0.3252 - val_accuracy: 0.9279\n",
      "Epoch 53/200\n",
      "978/978 [==============================] - 41s 41ms/step - loss: 0.0360 - accuracy: 0.9900 - val_loss: 0.3155 - val_accuracy: 0.9251\n"
     ]
    },
    {
     "data": {
      "text/plain": [
       "<tensorflow.python.keras.callbacks.History at 0x7fcd84077100>"
      ]
     },
     "execution_count": 20,
     "metadata": {},
     "output_type": "execute_result"
    }
   ],
   "source": [
    "model.fit(train_data_generator,\n",
    "              epochs=nb_epoch,\n",
    "              validation_data=validation_data_gen,\n",
    "              callbacks=[lr_reducer, early_stopper])"
   ]
  },
  {
   "cell_type": "code",
   "execution_count": 21,
   "metadata": {},
   "outputs": [
    {
     "name": "stdout",
     "output_type": "stream",
     "text": [
      "216/216 [==============================] - 406s 2s/step - loss: 0.0850 - accuracy: 0.9835\n"
     ]
    },
    {
     "data": {
      "text/plain": [
       "[0.0850026085972786, 0.9834782481193542]"
      ]
     },
     "execution_count": 21,
     "metadata": {},
     "output_type": "execute_result"
    }
   ],
   "source": [
    "model.evaluate(test_data_generator)"
   ]
  },
  {
   "cell_type": "code",
   "execution_count": 22,
   "metadata": {},
   "outputs": [],
   "source": [
    "model.save('devanagari_minst.h5')"
   ]
  },
  {
   "cell_type": "code",
   "execution_count": 23,
   "metadata": {},
   "outputs": [],
   "source": [
    "devnagri_model_json = model.to_json()"
   ]
  },
  {
   "cell_type": "code",
   "execution_count": 24,
   "metadata": {},
   "outputs": [],
   "source": [
    "with open('devanagri_model.json', 'w') as f:\n",
    "    f.write(devnagri_model_json)\n",
    "model.save_weights('dev_nagri_model_weights.h5')"
   ]
  }
 ],
 "metadata": {
  "kernelspec": {
   "display_name": "Python 3",
   "language": "python",
   "name": "python3"
  },
  "language_info": {
   "codemirror_mode": {
    "name": "ipython",
    "version": 3
   },
   "file_extension": ".py",
   "mimetype": "text/x-python",
   "name": "python",
   "nbconvert_exporter": "python",
   "pygments_lexer": "ipython3",
   "version": "3.8.5"
  }
 },
 "nbformat": 4,
 "nbformat_minor": 4
}
